{
 "cells": [
  {
   "cell_type": "code",
   "execution_count": 9,
   "metadata": {},
   "outputs": [],
   "source": [
    "\n",
    "#necessary packages import\n",
    "import pandas as pd\n",
    "import numpy as np\n",
    "import re\n",
    "import pickle\n",
    "from sklearn.feature_extraction.text import TfidfVectorizer\n",
    "from sklearn.model_selection import train_test_split\n",
    "from sklearn import svm\n",
    "from sklearn.naive_bayes import MultinomialNB"
   ]
  },
  {
   "cell_type": "code",
   "execution_count": 10,
   "metadata": {},
   "outputs": [],
   "source": [
    "#reading the excel file containing the dataset\n",
    "df = pd.read_csv(\"../bible_data_set/bible_data_set.csv\")\n",
    "new = ['Matthew', 'Mark', 'Luke', 'John', 'Acts', 'Romans', '1 Corinthians',\n",
    "            '2 Corinthians', 'Galatians', 'Ephesians', 'Philippians', 'Colossians',\n",
    "            '1 Thessalonians', '2 Thessalonians', '1 Timothy', '2 Timothy', 'Titus', 'Philemon',\n",
    "            'Hebrews', 'James', '1 Peter', '2 Peter', '1 John', '2 John', '3 John', 'Jude',\n",
    "            'Revelation']\n",
    "df['class'] = np.where(df['book'].isin(new), 1, 0)\n",
    "df = df[['class','text']]\n",
    "df.columns = ['label', 'data']"
   ]
  },
  {
   "cell_type": "code",
   "execution_count": 11,
   "metadata": {},
   "outputs": [],
   "source": [
    "\n",
    "#data cleansing\n",
    "def cleansing(x):\n",
    "    x = x.lower()\n",
    "    x = re.sub(r\"http\\S+\", \"\", x)\n",
    "    x = re.sub(r'[^\\w\\s]', '', x)\n",
    "    x = \" \".join(filter(lambda x: x[0] != '@' and x[0]!= '#', x.split()))\n",
    "    x = \" \".join(filter(lambda x: x.isalpha() , x.split()))\n",
    "    x = re.sub(' +', ' ', x)\n",
    "    return x.strip()\n",
    "df['data'] = df['data'].apply(lambda x: cleansing(x))"
   ]
  },
  {
   "cell_type": "code",
   "execution_count": 12,
   "metadata": {},
   "outputs": [],
   "source": [
    "#separate the feature set and label\n",
    "df_x = df['data']\n",
    "df_y = df['label']"
   ]
  },
  {
   "cell_type": "code",
   "execution_count": 13,
   "metadata": {},
   "outputs": [],
   "source": [
    "#using TFIDF vectorizer for word to vector conversion\n",
    "cv=TfidfVectorizer(min_df=1,stop_words='english')"
   ]
  },
  {
   "cell_type": "code",
   "execution_count": 14,
   "metadata": {},
   "outputs": [],
   "source": [
    "#splitting the training and testing set\n",
    "x_train,x_test,y_train,y_test=train_test_split(df_x,df_y,test_size=0.30,random_state=45)"
   ]
  },
  {
   "cell_type": "code",
   "execution_count": 15,
   "metadata": {},
   "outputs": [],
   "source": [
    "#scaling the feature vectors for optimization\n",
    "x_traincv = cv.fit_transform(x_train)\n",
    "x_testcv = cv.transform(x_test)\n",
    "y_train=y_train.astype('int')"
   ]
  },
  {
   "cell_type": "code",
   "execution_count": 16,
   "metadata": {},
   "outputs": [],
   "source": [
    "#defining the model\n",
    "svm_clf=svm.SVC(kernel='linear', C = 1.0)\n",
    "#svm_clf = MultinomialNB()"
   ]
  },
  {
   "cell_type": "code",
   "execution_count": 22,
   "metadata": {},
   "outputs": [],
   "source": [
    "#loading the data to the model with the label and training\n",
    "def training():\n",
    "    global x_traincv,y_train,svm_clf\n",
    "    svm_clf.fit(x_traincv,y_train)"
   ]
  },
  {
   "cell_type": "code",
   "execution_count": 23,
   "metadata": {},
   "outputs": [],
   "source": [
    "#accuracy prediction\n",
    "def testing():\n",
    "    global svm_clf\n",
    "    clf1 = open('model/svm_tfidf.pickle','rb')\n",
    "    svm_clf = pickle.load(clf1)\n",
    "    pred=svm_clf.predict(x_testcv)\n",
    "    actual=np.array(y_test)\n",
    "    count_0=0\n",
    "    count_1=0\n",
    "    for i in range (len(pred)):\n",
    "        if int(pred[i]) == int(actual.item(i)) and int(actual.item(i)) == 0:\n",
    "          count_0=count_0+1\n",
    "        if int(pred[i]) == int(actual.item(i)) and int(actual.item(i)) == 1:\n",
    "          count_1=count_1+1\n",
    "    print(\"The number of samples in the test set is\",len(pred))\n",
    "    print(\"The accuracy on the test set is---> \")      \n",
    "    print(\"Accuracy-->\",(count_1 + count_0)*100/len(pred))"
   ]
  },
  {
   "cell_type": "code",
   "execution_count": 24,
   "metadata": {},
   "outputs": [],
   "source": [
    "#save the model using pickle\n",
    "def model_saving():\n",
    "    global svm_clf\n",
    "    clf = open('model/svm_tfidf.pickle','wb')\n",
    "    pickle.dump(svm_clf,clf)\n",
    "    clf.close()"
   ]
  },
  {
   "cell_type": "code",
   "execution_count": 25,
   "metadata": {},
   "outputs": [
    {
     "name": "stdout",
     "output_type": "stream",
     "text": [
      "The number of samples in the test set is 9331\n",
      "The accuracy on the test set is---> \n",
      "Accuracy--> 92.03729503804523\n"
     ]
    }
   ],
   "source": [
    "training()\n",
    "model_saving()\n",
    "testing()"
   ]
  }
 ],
 "metadata": {
  "kernelspec": {
   "display_name": "Python 3",
   "language": "python",
   "name": "python3"
  },
  "language_info": {
   "codemirror_mode": {
    "name": "ipython",
    "version": 3
   },
   "file_extension": ".py",
   "mimetype": "text/x-python",
   "name": "python",
   "nbconvert_exporter": "python",
   "pygments_lexer": "ipython3",
   "version": "3.6.4"
  }
 },
 "nbformat": 4,
 "nbformat_minor": 2
}
