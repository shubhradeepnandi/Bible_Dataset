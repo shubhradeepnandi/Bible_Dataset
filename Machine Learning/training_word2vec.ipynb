{
 "cells": [
  {
   "cell_type": "code",
   "execution_count": 1,
   "metadata": {},
   "outputs": [],
   "source": [
    "\n",
    "#necessary packages import\n",
    "import pandas as pd\n",
    "import numpy as np\n",
    "import re\n",
    "import pickle\n",
    "from sklearn.feature_extraction.text import TfidfVectorizer\n",
    "from sklearn.model_selection import train_test_split\n",
    "from sklearn import svm\n",
    "from sklearn.naive_bayes import MultinomialNB\n",
    "import nltk\n",
    "import gensim\n",
    "from gensim import corpora, models, similarities\n",
    "from scipy import sparse"
   ]
  },
  {
   "cell_type": "code",
   "execution_count": 2,
   "metadata": {},
   "outputs": [],
   "source": [
    "#reading the excel file containing the dataset\n",
    "df = pd.read_csv(\"../bible_data_set/bible_data_set.csv\")\n",
    "new = ['Matthew', 'Mark', 'Luke', 'John', 'Acts', 'Romans', '1 Corinthians',\n",
    "            '2 Corinthians', 'Galatians', 'Ephesians', 'Philippians', 'Colossians',\n",
    "            '1 Thessalonians', '2 Thessalonians', '1 Timothy', '2 Timothy', 'Titus', 'Philemon',\n",
    "            'Hebrews', 'James', '1 Peter', '2 Peter', '1 John', '2 John', '3 John', 'Jude',\n",
    "            'Revelation']\n",
    "df['class'] = np.where(df['book'].isin(new), 1, 0)\n",
    "df = df[['class','text']]\n",
    "df.columns = ['label', 'data']"
   ]
  },
  {
   "cell_type": "code",
   "execution_count": 3,
   "metadata": {},
   "outputs": [],
   "source": [
    "#data cleansing\n",
    "def cleansing(x):\n",
    "    x = x.lower()\n",
    "    x = re.sub(r\"http\\S+\", \"\", x)\n",
    "    x = re.sub(r'[^\\w\\s]', '', x)\n",
    "    x = \" \".join(filter(lambda x: x[0] != '@' and x[0]!= '#', x.split()))\n",
    "    x = \" \".join(filter(lambda x: x.isalpha() , x.split()))\n",
    "    x = re.sub(' +', ' ', x)\n",
    "    return x.strip()\n",
    "df['data'] = df['data'].apply(lambda x: cleansing(x))"
   ]
  },
  {
   "cell_type": "code",
   "execution_count": 4,
   "metadata": {},
   "outputs": [],
   "source": [
    "#separate the feature set and label\n",
    "df_x = df['data']\n",
    "df_y = df['label']"
   ]
  },
  {
   "cell_type": "code",
   "execution_count": 5,
   "metadata": {},
   "outputs": [],
   "source": [
    "#word2vec\n",
    "x=df['data'].values.tolist()\n",
    "corpus = x\n",
    "tok_corp= [nltk.word_tokenize(sent) for sent in corpus]\n",
    "model = gensim.models.Word2Vec(tok_corp, min_count=1, size = 32, seed = 45)"
   ]
  },
  {
   "cell_type": "code",
   "execution_count": 6,
   "metadata": {},
   "outputs": [
    {
     "name": "stderr",
     "output_type": "stream",
     "text": [
      "/home/divyanshu/anaconda3/lib/python3.6/site-packages/ipykernel_launcher.py:6: DeprecationWarning: Call to deprecated `__getitem__` (Method will be removed in 4.0.0, use self.wv.__getitem__() instead).\n",
      "  \n"
     ]
    }
   ],
   "source": [
    "#converting sentence into vectors\n",
    "df2 = pd.DataFrame(columns=['vec'])\n",
    "for i,v in df_x.iteritems():\n",
    "    arr = np.zeros((32,))\n",
    "    for val in tok_corp[i]:\n",
    "        arr = arr + model[val]\n",
    "    df2 = df2.append({'vector': arr}, ignore_index=True)"
   ]
  },
  {
   "cell_type": "code",
   "execution_count": 7,
   "metadata": {},
   "outputs": [],
   "source": [
    "df_z = df2['vector']"
   ]
  },
  {
   "cell_type": "code",
   "execution_count": 8,
   "metadata": {},
   "outputs": [],
   "source": [
    "#using TFIDF vectorizer for word to vector conversion\n",
    "cv=TfidfVectorizer(min_df=1,stop_words='english')"
   ]
  },
  {
   "cell_type": "code",
   "execution_count": 9,
   "metadata": {},
   "outputs": [
    {
     "name": "stdout",
     "output_type": "stream",
     "text": [
      "vec                                                     NaN\n",
      "vector    [-1.4965026900172234, -1.8841276578605175, -7....\n",
      "Name: 0, dtype: object\n"
     ]
    }
   ],
   "source": [
    "print(df2.iloc[0])"
   ]
  },
  {
   "cell_type": "code",
   "execution_count": 10,
   "metadata": {},
   "outputs": [],
   "source": [
    "#splitting the training and testing set\n",
    "x_train,x_test,y_train,y_test=train_test_split(df_z,df_y,test_size=0.30,random_state=45)"
   ]
  },
  {
   "cell_type": "code",
   "execution_count": 11,
   "metadata": {},
   "outputs": [],
   "source": [
    "#scaling the feature vectors for optimization\n",
    "# x_traincv = cv.fit_transform(x_train)\n",
    "# x_testcv = cv.transform(x_test)\n",
    "# y_train=y_train.astype('int')\n",
    "# print((x_testcv.shape))\n",
    "l1 = []\n",
    "l2 = []\n",
    "for iter1 in x_train:\n",
    "    l1.append(iter1)\n",
    "for iter2 in x_test:\n",
    "    l2.append(iter2)\n",
    "x_traincv = sparse.csr_matrix(l1)\n",
    "x_testcv = sparse.csr_matrix(l2)\n",
    "y_train=y_train.astype('int')"
   ]
  },
  {
   "cell_type": "code",
   "execution_count": 12,
   "metadata": {},
   "outputs": [],
   "source": [
    "#defining the model\n",
    "svm_clf=svm.SVC(kernel='linear', C = 1.0)\n",
    "#svm_clf = MultinomialNB()"
   ]
  },
  {
   "cell_type": "code",
   "execution_count": 13,
   "metadata": {},
   "outputs": [],
   "source": [
    "#loading the data to the model with the label and training\n",
    "def training():\n",
    "    global x_traincv,y_train,svm_clf\n",
    "    svm_clf.fit(x_traincv,y_train)"
   ]
  },
  {
   "cell_type": "code",
   "execution_count": 14,
   "metadata": {},
   "outputs": [],
   "source": [
    "#accuracy prediction\n",
    "def testing():\n",
    "    global svm_clf\n",
    "    clf1 = open('model/svm.pickle','rb')\n",
    "    svm_clf = pickle.load(clf1)\n",
    "    pred=svm_clf.predict(x_testcv)\n",
    "    actual=np.array(y_test)\n",
    "    count_0=0\n",
    "    count_1=0\n",
    "    for i in range (len(pred)):\n",
    "        if int(pred[i]) == int(actual.item(i)) and int(actual.item(i)) == 0:\n",
    "          count_0=count_0+1\n",
    "        if int(pred[i]) == int(actual.item(i)) and int(actual.item(i)) == 1:\n",
    "          count_1=count_1+1\n",
    "    print(\"The number of samples in the test set is\",len(pred))\n",
    "    print(\"The accuracy on the test set is---> \")      \n",
    "    print(\"Accuracy-->\",(count_1 + count_0)*100/len(pred))"
   ]
  },
  {
   "cell_type": "code",
   "execution_count": null,
   "metadata": {},
   "outputs": [],
   "source": [
    "#save the model using pickle\n",
    "def model_saving():\n",
    "    global svm_clf\n",
    "    clf = open('model/svm.pickle','wb')\n",
    "    pickle.dump(svm_clf,clf)\n",
    "    clf.close()"
   ]
  },
  {
   "cell_type": "code",
   "execution_count": null,
   "metadata": {},
   "outputs": [],
   "source": [
    "training()\n",
    "model_saving()\n",
    "testing()"
   ]
  },
  {
   "cell_type": "code",
   "execution_count": null,
   "metadata": {},
   "outputs": [],
   "source": [
    "#calculating the cosine similarity\n",
    "print(\"The cosine distance between two words-->\",model.similarity('light', 'dark'))"
   ]
  }
 ],
 "metadata": {
  "kernelspec": {
   "display_name": "Python 3",
   "language": "python",
   "name": "python3"
  },
  "language_info": {
   "codemirror_mode": {
    "name": "ipython",
    "version": 3
   },
   "file_extension": ".py",
   "mimetype": "text/x-python",
   "name": "python",
   "nbconvert_exporter": "python",
   "pygments_lexer": "ipython3",
   "version": "3.6.4"
  }
 },
 "nbformat": 4,
 "nbformat_minor": 2
}
