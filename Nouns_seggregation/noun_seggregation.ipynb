{
 "cells": [
  {
   "cell_type": "code",
   "execution_count": 9,
   "metadata": {},
   "outputs": [],
   "source": [
    "import nltk\n",
    "import numpy as np\n",
    "import pandas as pd\n",
    "import gensim\n",
    "from gensim import corpora, models, similarities"
   ]
  },
  {
   "cell_type": "code",
   "execution_count": 10,
   "metadata": {},
   "outputs": [],
   "source": [
    "#reading the excel file containing the dataset\n",
    "df = pd.read_csv(\"../bible_data_set/bible_data_set.csv\")\n",
    "new = ['Matthew', 'Mark', 'Luke', 'John', 'Acts', 'Romans', '1 Corinthians',\n",
    "            '2 Corinthians', 'Galatians', 'Ephesians', 'Philippians', 'Colossians',\n",
    "            '1 Thessalonians', '2 Thessalonians', '1 Timothy', '2 Timothy', 'Titus', 'Philemon',\n",
    "            'Hebrews', 'James', '1 Peter', '2 Peter', '1 John', '2 John', '3 John', 'Jude',\n",
    "            'Revelation']\n",
    "df['class'] = np.where(df['book'].isin(new), 1, 0)\n",
    "df = df[['class','text']]\n",
    "df.columns = ['label', 'data']"
   ]
  },
  {
   "cell_type": "code",
   "execution_count": 11,
   "metadata": {},
   "outputs": [],
   "source": [
    "#word2vec\n",
    "x=df['data'].values.tolist()\n",
    "corpus = x\n",
    "tok_corp= [nltk.word_tokenize(sent) for sent in corpus]\n",
    "model = gensim.models.Word2Vec(tok_corp, min_count=1, size = 32, seed = 45)"
   ]
  },
  {
   "cell_type": "code",
   "execution_count": 13,
   "metadata": {},
   "outputs": [
    {
     "name": "stderr",
     "output_type": "stream",
     "text": [
      "/home/divyanshu/anaconda3/lib/python3.6/site-packages/ipykernel_launcher.py:9: SettingWithCopyWarning: \n",
      "A value is trying to be set on a copy of a slice from a DataFrame\n",
      "\n",
      "See the caveats in the documentation: http://pandas.pydata.org/pandas-docs/stable/indexing.html#indexing-view-versus-copy\n",
      "  if __name__ == '__main__':\n"
     ]
    }
   ],
   "source": [
    "#calculating the extra column with nouns in the respective sentence\n",
    "noun = ['NN','NNS','NNP','NNPS']\n",
    "df['noun'] = np.empty((len(df), 0)).tolist()\n",
    "it=0\n",
    "for i in tok_corp[0:1000]:\n",
    "    pos = nltk.pos_tag(i)\n",
    "    for n in pos:\n",
    "        if(n[1] in noun):\n",
    "            df.iloc[it]['noun']=df.iloc[it]['noun'].append(n[0])\n",
    "    it+=1\n"
   ]
  },
  {
   "cell_type": "code",
   "execution_count": 14,
   "metadata": {},
   "outputs": [],
   "source": [
    "#saving the dataframe with nouns to csv \n",
    "df.to_csv('../bible_data_set/data_with_noun.csv')"
   ]
  }
 ],
 "metadata": {
  "kernelspec": {
   "display_name": "Python 3",
   "language": "python",
   "name": "python3"
  },
  "language_info": {
   "codemirror_mode": {
    "name": "ipython",
    "version": 3
   },
   "file_extension": ".py",
   "mimetype": "text/x-python",
   "name": "python",
   "nbconvert_exporter": "python",
   "pygments_lexer": "ipython3",
   "version": "3.6.4"
  }
 },
 "nbformat": 4,
 "nbformat_minor": 2
}
